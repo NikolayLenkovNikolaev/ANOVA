{
  "nbformat": 4,
  "nbformat_minor": 0,
  "metadata": {
    "colab": {
      "provenance": [],
      "authorship_tag": "ABX9TyM/ufkuef163ZXcXbxZYEXJ",
      "include_colab_link": true
    },
    "kernelspec": {
      "name": "python3",
      "display_name": "Python 3"
    },
    "language_info": {
      "name": "python"
    }
  },
  "cells": [
    {
      "cell_type": "markdown",
      "metadata": {
        "id": "view-in-github",
        "colab_type": "text"
      },
      "source": [
        "<a href=\"https://colab.research.google.com/github/NikolayLenkovNikolaev/ANOVA/blob/main/Dictionary%2C_signs.ipynb\" target=\"_parent\"><img src=\"https://colab.research.google.com/assets/colab-badge.svg\" alt=\"Open In Colab\"/></a>"
      ]
    },
    {
      "cell_type": "markdown",
      "source": [
        "$ A \\xrightarrow[T]{P} C $"
      ],
      "metadata": {
        "id": "feCD_yWQr_3a"
      }
    },
    {
      "cell_type": "markdown",
      "source": [
        "$\n",
        "\\begin{equation}\n",
        "  D_{it} =\n",
        "    \\begin{cases}\n",
        "      1 & \\text{if bank $i$ issues ABs at time $t$}\\\\\n",
        "      2 & \\text{if bank $i$ issues CBs at time $t$}\\\\\n",
        "      0 & \\text{otherwise}\n",
        "    \\end{cases}       \n",
        "\\end{equation}\n",
        "$"
      ],
      "metadata": {
        "id": "B86dt7h4r_5u"
      }
    },
    {
      "cell_type": "markdown",
      "source": [
        "\n",
        "|A|A|A|\n",
        "|---|---|---|\n",
        "|a|a|a|\n",
        "|a|a|a|\n"
      ],
      "metadata": {
        "id": "tm4xktQur_8C"
      }
    },
    {
      "cell_type": "markdown",
      "source": [
        "\n",
        "$\\approx$"
      ],
      "metadata": {
        "id": "L0rjEvKKr_-Z"
      }
    },
    {
      "cell_type": "markdown",
      "source": [
        "|s_1|...|s_j|...|s_k|\n",
        "|---|---|---|---|---|\n",
        "|   |   |   |   |   |\n",
        "|   |   |   |   |   |\n",
        "|   |   |   |   |   |\n",
        "|   |   |   |   |   |\n",
        "|   |   |   |   |   |\n",
        "\n",
        "\n",
        "$\\0$\n",
        "\n",
        "\n",
        "$\\nexists $\n",
        "\n",
        "\n",
        "$\\exists$"
      ],
      "metadata": {
        "id": "5GRyVg9rsAAl"
      }
    },
    {
      "cell_type": "markdown",
      "source": [],
      "metadata": {
        "id": "0GSpOHGPsACj"
      }
    },
    {
      "cell_type": "markdown",
      "source": [
        "\n",
        "$\\begin{equation}\n",
        "  D_{it} =\n",
        "    \\begin{cases}\n",
        "      1 & \\text{if bank $i$ issues ABs at time $t$}\\\\\n",
        "      2 & \\text{if bank $i$ issues CBs at time $t$}\\\\\n",
        "      0 & \\text{otherwise}\n",
        "    \\end{cases}       \n",
        "\\end{equation}\n",
        "$\n",
        "\n",
        "$\n",
        "\\begin{equation}\n",
        "  f(x)=\\begin{cases}\n",
        "    1, & \\text{if $x<0$}.\\\\\n",
        "    0, & \\text{otherwise}.\n",
        "  \\end{cases}\n",
        "\\end{equation}\n",
        "$\n",
        "\n",
        "$\n",
        "\\begin{cases}\n",
        "    1, & \\text{if $x<0$}.\\\\\n",
        "    0, & \\text{otherwise}.\n",
        "  \\end{cases}\n",
        "$"
      ],
      "metadata": {
        "id": "SQMRvBwpsAEo"
      }
    },
    {
      "cell_type": "markdown",
      "source": [],
      "metadata": {
        "id": "AhHgLSb6sAGu"
      }
    },
    {
      "cell_type": "markdown",
      "source": [
        "$Y_{ij}= \\mu+\\alpha_j + \\epsilon_{ij}$"
      ],
      "metadata": {
        "id": "QSAvDKGNsAI1"
      }
    },
    {
      "cell_type": "markdown",
      "source": [
        "\\begin{bmatrix}\n",
        "    x_{11}       & x_{12} & x_{13} & \\dots & x_{1n} \\\\\n",
        "    x_{21}       & x_{22} & x_{23} & \\dots & x_{2n} \\\\\n",
        "    x_{d1}       & x_{d2} & x_{d3} & \\dots & x_{dn}\n",
        "\\end{bmatrix}"
      ],
      "metadata": {
        "id": "uY5pN-NKsALJ"
      }
    },
    {
      "cell_type": "markdown",
      "source": [],
      "metadata": {
        "id": "jATvegdeMXnk"
      }
    },
    {
      "cell_type": "markdown",
      "source": [],
      "metadata": {
        "id": "NlNbeZmYMXqK"
      }
    },
    {
      "cell_type": "markdown",
      "source": [],
      "metadata": {
        "id": "nucJd8f-MXsX"
      }
    },
    {
      "cell_type": "markdown",
      "source": [],
      "metadata": {
        "id": "Uusu3y5fMXuk"
      }
    },
    {
      "cell_type": "markdown",
      "source": [],
      "metadata": {
        "id": "qU6wtavvMXwi"
      }
    },
    {
      "cell_type": "markdown",
      "source": [],
      "metadata": {
        "id": "sAZZCASOMXyW"
      }
    },
    {
      "cell_type": "code",
      "source": [],
      "metadata": {
        "id": "mzoVugJIMW6H"
      },
      "execution_count": null,
      "outputs": []
    }
  ]
}