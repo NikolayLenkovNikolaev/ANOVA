{
  "nbformat": 4,
  "nbformat_minor": 0,
  "metadata": {
    "colab": {
      "provenance": [],
      "authorship_tag": "ABX9TyM+CvabLK/OGYu2yySbcUoA",
      "include_colab_link": true
    },
    "kernelspec": {
      "name": "python3",
      "display_name": "Python 3"
    },
    "language_info": {
      "name": "python"
    }
  },
  "cells": [
    {
      "cell_type": "markdown",
      "metadata": {
        "id": "view-in-github",
        "colab_type": "text"
      },
      "source": [
        "<a href=\"https://colab.research.google.com/github/NikolayLenkovNikolaev/ANOVA/blob/main/L2_Searching_Soprting_algo.ipynb\" target=\"_parent\"><img src=\"https://colab.research.google.com/assets/colab-badge.svg\" alt=\"Open In Colab\"/></a>"
      ]
    },
    {
      "cell_type": "code",
      "execution_count": null,
      "metadata": {
        "id": "-099kgCsaGc-"
      },
      "outputs": [],
      "source": []
    },
    {
      "cell_type": "markdown",
      "source": [],
      "metadata": {
        "id": "F2QDIogkaKoJ"
      }
    },
    {
      "cell_type": "markdown",
      "source": [],
      "metadata": {
        "id": "6rSfHppRaKqn"
      }
    },
    {
      "cell_type": "markdown",
      "source": [],
      "metadata": {
        "id": "OdAvILWaaKtN"
      }
    },
    {
      "cell_type": "markdown",
      "source": [],
      "metadata": {
        "id": "_gA59jajaKvo"
      }
    },
    {
      "cell_type": "markdown",
      "source": [
        "Searching algoritnm == an algorithm for finding an item with specified properties among a collection of items\n",
        "\n",
        "Dyfernt tyopes of searching algo:\n",
        "- for sub-structure of a given structure\n",
        "    - a graph, a string, a finite group\n",
        "\n",
        "- search for the min/max of a function, etc\n",
        "\n"
      ],
      "metadata": {
        "id": "sZZ5GGuZaKyW"
      }
    },
    {
      "cell_type": "markdown",
      "source": [
        "**Linear search**"
      ],
      "metadata": {
        "id": "IOOqx4M_bD9W"
      }
    },
    {
      "cell_type": "code",
      "source": [
        "nums = [1,2,3,4,5,6,7,8,9,10]\n",
        "\n",
        "target = 5\n",
        "\n",
        "def linear_search(nums, target):\n",
        "    for idx, num in enumerate(nums):\n",
        "        if num == target:\n",
        "            return idx\n",
        "    return -1\n",
        "\n",
        "print(linear_search(nums, target))"
      ],
      "metadata": {
        "colab": {
          "base_uri": "https://localhost:8080/"
        },
        "id": "B5A-DmUvcHTR",
        "outputId": "f9e0e11a-9931-4922-ac2c-eda630e36fd1"
      },
      "execution_count": 1,
      "outputs": [
        {
          "output_type": "stream",
          "name": "stdout",
          "text": [
            "4\n"
          ]
        }
      ]
    },
    {
      "cell_type": "markdown",
      "source": [
        "## Binary Search:\n"
      ],
      "metadata": {
        "id": "09CWDSYBcGob"
      }
    },
    {
      "cell_type": "markdown",
      "source": [
        "## 1. Binary Search\n",
        "Implement an algorithm that finds the index of an element in a sorted array of integers in logarithmic time.\n",
        "\n",
        "Examples\n",
        "\n",
        "Hints\n",
        "First, if you’re not familiar with the concept, read about binary search in Wikipedia.\n",
        "In short, if we have a sorted collection of comparable elements, instead of doing a linear search (which takes linear time), we can eliminate half the elements at each step and finish in logarithmic time. Binary search is a divide-and-conquer algorithm; we start at the middle of the collection, if we haven’t found the element there, there are three possibilities:\n",
        "The element we’re looking for is smaller – then look to the left of the current element, we know all elements to the right are larger\n",
        "The element we’re looking for is larger – look to the right of the current element\n",
        "The element is not present, traditionally, return -1 in that case\n",
        "Start by defining a method:\n",
        "\n"
      ],
      "metadata": {
        "id": "C0FL813TbECm"
      }
    },
    {
      "cell_type": "code",
      "source": [
        "\n",
        "def binart_search(nums, target):\n",
        "    left = 0\n",
        "    right = len(nums) -1\n",
        "    while True:\n",
        "        mid_idx = (left + right) //2\n",
        "        mid_el = nums[mid_idx]\n",
        "\n",
        "        if mid_el == target:\n",
        "            return mid_idx\n",
        "\n",
        "        if target > mid_el:\n",
        "            left = mid_idx + 1\n",
        "        else:\n",
        "            right = mid_idx - 1\n",
        "\n",
        "    return -1\n",
        "\n",
        "# idx 0  1  2  3  4\n",
        "# num 1  2  3  4  5\n",
        "#     L     M    R\n",
        "#     L  M  R\n",
        "\n",
        "\n",
        "nums = [-1, 0, 1, 2, 4]\n",
        "target = 1\n",
        "\n",
        "# nums = [int(x) for x in input().split()]\n",
        "# target = int(input())\n",
        "\n",
        "print(binart_search(nums, target))"
      ],
      "metadata": {
        "colab": {
          "base_uri": "https://localhost:8080/"
        },
        "id": "29-mkHilg7eM",
        "outputId": "9cd48d03-173e-44da-9822-40440d57a319"
      },
      "execution_count": 3,
      "outputs": [
        {
          "output_type": "stream",
          "name": "stdout",
          "text": [
            "2\n"
          ]
        }
      ]
    },
    {
      "cell_type": "markdown",
      "source": [
        "## Sorting Algorithm:\n",
        "Sorting algorithm\n",
        "An algorithm that rearranges elements in a list\n",
        "In non-decreasing order\n",
        "Elements must be comparable\n",
        "More formally\n",
        "The input is a sequence / list of elements\n",
        "The output is a rearrangement / permutation of elements\n",
        "In non-decreasing order\n",
        "\n",
        "\n",
        "Efficient sorting algorithms are important for:\n",
        "Producing human-readable output\n",
        "Canonicalizing data – making data uniquely arranged\n",
        "In conjunction with other algorithms, like binary searching\n",
        "\n",
        "## Classification:\n",
        "\n",
        "Sorting algorithms are often classified by:\n",
        "- Computational complexity and memory usage\n",
        "    - Worst, average and best-case behavior\n",
        "- Recursive / non-recursive\n",
        "- Stability – stable / unstable\n",
        "- Comparison-based sort / non-comparison based\n"
      ],
      "metadata": {
        "id": "J3ZISpssbEFH"
      }
    },
    {
      "cell_type": "markdown",
      "source": [
        "## Stability f Sorting:\n",
        "\n",
        "Stable sorting algorithms\n",
        "- Maintain the order of equal elements\n",
        "- If two items compare as equal, their\n",
        "relative order is preserved\n",
        "\n",
        "Unstable sorting algorithms\n",
        "- Rearrange the equal elements in\n",
        "unpredictable order\n",
        "\n",
        "Often different elements have same key\n",
        "used for equality comparing"
      ],
      "metadata": {
        "id": "hwVgocU-bEHh"
      }
    },
    {
      "cell_type": "markdown",
      "source": [
        "Selection Sort:\n",
        "\n",
        "Selection sort – simple, but inefficient algorithm\n",
        "Swap the first with the min element on the right, then the second, etc.\n",
        "- Memory: O(1)\n",
        "- Time: O(n2)\n",
        "- Stable: No\n",
        "- Method: Selection\n"
      ],
      "metadata": {
        "id": "XYkn_vTYbEJg"
      }
    },
    {
      "cell_type": "markdown",
      "source": [
        "Write an implementation of Selection Sort. You should read an array of integers and sort them.\n",
        "Output\n",
        "You should print out the sorted list in the format described below.\n"
      ],
      "metadata": {
        "id": "uFNXPgkEbELn"
      }
    },
    {
      "cell_type": "code",
      "source": [
        "nums = [5, 4, 3, 2, 1,]\n",
        "target = 1\n",
        "\n",
        "# nums = [int(x) for x in input().split()]\n",
        "# target = int(input()\n",
        "\n",
        "for idx in range(len(nums)):\n",
        "    current_number = nums[idx]\n",
        "    min_number = current_number\n",
        "    min_idx = idx\n",
        "\n",
        "    for next_idx in range(idx + 1, len(nums)):\n",
        "        next_number = nums[next_idx]\n",
        "        if next_number < min_number:\n",
        "            min_number = next_number\n",
        "            min_idx = next_idx\n",
        "\n",
        "    nums[idx], nums[min_idx] = nums[min_idx], nums[idx]\n",
        "\n",
        "print(*nums, sep=\"- \")\n"
      ],
      "metadata": {
        "colab": {
          "base_uri": "https://localhost:8080/"
        },
        "id": "eb43sQjmbDOu",
        "outputId": "6c223873-9c65-4c93-b45b-ae2f71583816"
      },
      "execution_count": 4,
      "outputs": [
        {
          "output_type": "stream",
          "name": "stdout",
          "text": [
            "1- 2- 3- 4- 5\n"
          ]
        }
      ]
    },
    {
      "cell_type": "markdown",
      "source": [
        "Bubble sort\n",
        "\n",
        "– simple, but inefficient algorithm\n",
        "\n",
        "Swaps to neighbor elements when not in order until sorted\n",
        "\n",
        "- Memory: O(1)\n",
        "- Time: O(n2)\n",
        "- Stable: Yes\n",
        "- Method: Exchanging\n"
      ],
      "metadata": {
        "id": "t3GXJIw2k4Mf"
      }
    },
    {
      "cell_type": "code",
      "source": [
        "nums = [1, 3, 4, 2, 5, 6, 2, 2, 5, 10]\n",
        "\n",
        "is_sorted = False\n",
        "i = 0  # counter\n",
        "# j = idx\n",
        "while not is_sorted:\n",
        "    is_sorted = True\n",
        "    for j in range(1, len(nums) - i):\n",
        "        if nums[j - 1] > nums[j]:\n",
        "            nums[j], nums[j - 1] = nums[j - 1], nums[j]\n",
        "            is_sorted = False\n",
        "    i += 1\n",
        "\n",
        "print(*nums, sep=\" \")"
      ],
      "metadata": {
        "id": "MllxhzBWmDiP"
      },
      "execution_count": null,
      "outputs": []
    },
    {
      "cell_type": "code",
      "source": [
        "nums = [1, 3, 4, 2, 5,1,9,5, 6, 2, 2, 5, 10]\n",
        "\n",
        "for i in range(len(nums)):\n",
        "    for j in range(1, len(nums) - i):\n",
        "        if nums[j - 1] > nums[j]:\n",
        "            nums[j], nums[j - 1] = nums[j - 1], nums[j]\n",
        "print(*nums, sep=\" \")"
      ],
      "metadata": {
        "colab": {
          "base_uri": "https://localhost:8080/"
        },
        "id": "ZLXRI-g7mFfZ",
        "outputId": "e7ec8c08-3d8a-4376-8420-3d679c2e3f73"
      },
      "execution_count": 5,
      "outputs": [
        {
          "output_type": "stream",
          "name": "stdout",
          "text": [
            "1 1 2 2 2 3 4 5 5 5 6 9 10\n"
          ]
        }
      ]
    },
    {
      "cell_type": "markdown",
      "source": [
        "## Comparison of Sorting Algorithms"
      ],
      "metadata": {
        "id": "DvgZ3oQGmQ3t"
      }
    },
    {
      "cell_type": "markdown",
      "source": [
        "![image.png](data:image/png;base64,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)"
      ],
      "metadata": {
        "id": "aLKOEw3NmVJF"
      }
    },
    {
      "cell_type": "markdown",
      "source": [
        "## Insertion Sort\n",
        "\n",
        "– simple, but inefficient algorithm\n",
        "Move the first unsorted element left to its place\n",
        "Memory: O(1)\n",
        "Time: O(n2)\n",
        "Stable: Yes\n",
        "Method: Insertion"
      ],
      "metadata": {
        "id": "xvgYJ3C1mYMv"
      }
    },
    {
      "cell_type": "markdown",
      "source": [
        "![image.png](data:image/png;base64,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)"
      ],
      "metadata": {
        "id": "laJgLIfDmhVc"
      }
    },
    {
      "cell_type": "code",
      "source": [
        "nums = [1, 3, 4, 2, 5, 6, 2, 2, 5, 10]\n",
        "\n",
        "\n",
        "for i in range(1, len(nums)):\n",
        "    for j in range(i, 0, -1):\n",
        "        if nums[j] < nums[j-1]:\n",
        "            nums[j], nums[j-1] = nums[j-1], nums[j]\n",
        "\n",
        "print(nums, sep=\"- \")"
      ],
      "metadata": {
        "id": "sZSTyGXlnF4F"
      },
      "execution_count": null,
      "outputs": []
    },
    {
      "cell_type": "markdown",
      "source": [
        "# Advanced Sorting Algorithms\n",
        "\n",
        "QuickSort\n",
        "- efficient sorting algorithm\n",
        "Choose a pivot; move smaller elements left & larger right; sort left & right\n",
        "Memory: O(log(n)) stack space (recursion)\n",
        "Time: O(n2)\n",
        "When the pivot element divides the array into two unbalanced sub-arrays (huge difference in size)\n",
        "Stable: Depends\n",
        "Method: Partitioning\n"
      ],
      "metadata": {
        "id": "x5jQi_eemlPu"
      }
    },
    {
      "cell_type": "markdown",
      "source": [
        "Quick Sort: Conceptual Overview"
      ],
      "metadata": {
        "id": "X4seCZjPmlT-"
      }
    },
    {
      "cell_type": "markdown",
      "source": [
        "![image.png](data:image/png;base64,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)"
      ],
      "metadata": {
        "id": "0y7s_pc4mu9z"
      }
    },
    {
      "cell_type": "code",
      "source": [
        "nums = [2,3,5,4,1]\n",
        "\n",
        "def quick_sort(start, end, nums):\n",
        "    if start >= end:\n",
        "        return\n",
        "    pivot = start\n",
        "    left = start + 1\n",
        "    right = end\n",
        "\n",
        "    while left <= right:\n",
        "        if nums[left] > nums[pivot] > nums[right]:\n",
        "            nums[left], nums[right] = nums[right], nums[left]\n",
        "\n",
        "        if nums[left] <= nums[pivot]:\n",
        "            left += 1\n",
        "        if nums[right] >= nums[pivot]:\n",
        "            right -= 1\n",
        "\n",
        "    nums[pivot], nums[right] = nums[right], nums[pivot]\n",
        "    quick_sort(start, right-1, nums)\n",
        "    quick_sort(left, end, nums)\n",
        "\n",
        "\n",
        "\n",
        "print(quick_sort(0, len(nums)-1, nums))"
      ],
      "metadata": {
        "colab": {
          "base_uri": "https://localhost:8080/"
        },
        "id": "q9EpMCp3sW_E",
        "outputId": "03f7b839-f8d1-4099-88ec-36fb7cc10e66"
      },
      "execution_count": 7,
      "outputs": [
        {
          "output_type": "stream",
          "name": "stdout",
          "text": [
            "None\n"
          ]
        }
      ]
    },
    {
      "cell_type": "code",
      "source": [
        "def quick_sort(nums, start, end):\n",
        "    if start >= end:\n",
        "        return\n",
        "    pivot, left, right = start, start + 1, end\n",
        "    while left <= right:\n",
        "        if nums[left] > nums[pivot] > nums[right]:\n",
        "            nums[left], nums[right] = nums[right], nums[left]\n",
        "        if nums[left] <= nums[pivot]:\n",
        "            left += 1\n",
        "        if nums[right] >= nums[pivot]:\n",
        "            right -= 1\n",
        "    nums[pivot], nums[right] = nums[right], nums[pivot]\n",
        "    quick_sort(nums, start, right - 1)\n",
        "    quick_sort(nums, right + 1, end)\n"
      ],
      "metadata": {
        "id": "Y7nwPFXCstvk"
      },
      "execution_count": null,
      "outputs": []
    },
    {
      "cell_type": "markdown",
      "source": [],
      "metadata": {
        "id": "fuIHEYR0m8UY"
      }
    },
    {
      "cell_type": "markdown",
      "source": [
        "Merge sort\n",
        "\n",
        "is efficient sorting algorithm\n",
        "Divide the list into sub-lists (typically 2 sub-lists)\n",
        "Sort each sub-list (recursively call merge-sort)\n",
        "Merge the sorted sub-lists into a single list\n",
        "Memory: O(n) / O(n*log(n))\n",
        "Time: O(n*log(n))\n",
        "Highly parallelizable on multiple cores / machines 🡪 up to O(log(n))"
      ],
      "metadata": {
        "id": "6fuoHy8Sm8Xb"
      }
    },
    {
      "cell_type": "markdown",
      "source": [
        "![image.png](data:image/png;base64,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)"
      ],
      "metadata": {
        "id": "zVl49elCnA0R"
      }
    },
    {
      "cell_type": "markdown",
      "source": [
        "![image.png](data:image/png;base64,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)"
      ],
      "metadata": {
        "id": "7Ikt0KKln3qF"
      }
    },
    {
      "cell_type": "code",
      "source": [
        "# Memory: O(n*log(n))\n",
        "def merge_sort(nums):\n",
        "    if len(nums) == 1:\n",
        "        return nums\n",
        "    mid_idx = len(nums) // 2\n",
        "    left = nums[:mid_idx]\n",
        "    right = nums[mid_idx:]\n",
        "    return merge_arrays(merge_sort(left), merge_sort(right))\n",
        "\n",
        "\n",
        "def merge_arrays(left, right):\n",
        "    sorted_arr = []\n",
        "    left_idx, right_idx = 0, 0\n",
        "    while left_idx < len(left) and right_idx < len(right):\n",
        "        if left[left_idx] < right[right_idx]:\n",
        "            sorted_arr.append(left[left_idx])\n",
        "            left_idx += 1\n",
        "        else:\n",
        "            sorted_arr.append(right[right_idx])\n",
        "            right_idx += 1\n",
        "    # TODO: Take remaining elements either from the left or right\n",
        "\n",
        "\n",
        "while left_idx < len(left):\n",
        "    sorted_arr.append(left[left_idx])\n",
        "    left_idx += 1\n",
        "\n",
        "while right_idx < len(right):\n",
        "    sorted_arr.append(right[right_idx])\n",
        "    right_idx += 1\n"
      ],
      "metadata": {
        "id": "6vkXH6D3mRrm"
      },
      "execution_count": null,
      "outputs": []
    },
    {
      "cell_type": "markdown",
      "source": [
        "Merge Sort\n",
        "Sort an array of elements using the famous merge sort.\n",
        "\n",
        "\n",
        "5 4 3 2 1"
      ],
      "metadata": {
        "id": "GN3_6a63tS0t"
      }
    },
    {
      "cell_type": "code",
      "source": [
        "nums = [5, 4, 3, 2, 1]\n",
        "\n",
        "def merge_arrays(left, right):\n",
        "    result = [None]*(len(left)+ len(right))\n",
        "    left_idx = 0\n",
        "    right_idx = 0\n",
        "    result_idx = 0\n",
        "\n",
        "    while left_idx < len(left) and right_idx < len(right):\n",
        "        if left[left_idx] < right[right_idx]:\n",
        "            result[result_idx] = left[left_idx]\n",
        "            left_idx += 1\n",
        "        else:\n",
        "            result[result_idx] = right[right_idx]\n",
        "            right_idx +=1\n",
        "        result_idx +=1\n",
        "\n",
        "    while left_idx < len(left):\n",
        "        result[result_idx] = left[left_idx]\n",
        "        left_idx   += 1\n",
        "        result_idx += 1\n",
        "    while right_idx < len(right):\n",
        "        result[result_idx] = right[right_idx]\n",
        "        right_idx   += 1\n",
        "        result_idx += 1\n",
        "\n",
        "    return result\n",
        "\n",
        "\n",
        "\n",
        "\n",
        "\n",
        "\n",
        "def merge_sort(nums):\n",
        "    if len(nums) == 1:\n",
        "        return nums\n",
        "    mid_idx = len(nums)//2\n",
        "    left = nums[:mid_idx]\n",
        "    right = nums[mid_idx:]\n",
        "\n",
        "    return merge_arrays(merge_sort(left), merge_sort(right))\n",
        "\n",
        "\n",
        "\n",
        "print(merge_sort(nums))\n",
        "\n",
        "\n",
        "\n"
      ],
      "metadata": {
        "id": "ierG5k1ksvrR"
      },
      "execution_count": null,
      "outputs": []
    },
    {
      "cell_type": "code",
      "source": [],
      "metadata": {
        "id": "HUxh2dsesvt4"
      },
      "execution_count": null,
      "outputs": []
    }
  ]
}